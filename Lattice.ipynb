{
 "cells": [
  {
   "cell_type": "code",
   "execution_count": 1,
   "metadata": {},
   "outputs": [
    {
     "name": "stdout",
     "output_type": "stream",
     "text": [
      "[ 6  0  0]\n",
      "[ 0  6  0]\n",
      "[-1  1  1]\n"
     ]
    }
   ],
   "source": [
    "lat = sage.crypto.gen_lattice(n=2, m=3, q=6, seed=42)\n",
    "print(lat)"
   ]
  },
  {
   "cell_type": "code",
   "execution_count": 14,
   "metadata": {},
   "outputs": [
    {
     "name": "stdout",
     "output_type": "stream",
     "text": [
      "Free module of degree 3 and rank 3 over Integer Ring\n",
      "User basis matrix:\n",
      "[ 1  0  1]\n",
      "[ 1 -2 -2]\n",
      "[-2 -1  2]\n",
      "(1, 0, 1)\n"
     ]
    }
   ],
   "source": [
    "from sage.modules.free_module_integer import IntegerLattice\n",
    "Base = sage.crypto.gen_lattice(type='modular', n=1, m=3, seed=5)\n",
    "L = IntegerLattice(Base)\n",
    "print(L)\n",
    "print(L.shortest_vector())"
   ]
  },
  {
   "cell_type": "code",
   "execution_count": 15,
   "metadata": {},
   "outputs": [
    {
     "name": "stdout",
     "output_type": "stream",
     "text": [
      "[-1  1  0]\n",
      "[-2  1  3]\n",
      "[ 2 -1 -2]\n"
     ]
    }
   ],
   "source": [
    "matrix_space = sage.matrix.matrix_space.MatrixSpace(ZZ, 3)\n",
    "Rand = sage.matrix.special.random_unimodular_matrix(matrix_space, upper_bound=5)\n",
    "print(Rand)"
   ]
  },
  {
   "cell_type": "code",
   "execution_count": 16,
   "metadata": {},
   "outputs": [
    {
     "name": "stdout",
     "output_type": "stream",
     "text": [
      "[-11  11   0]\n",
      "[ -6   5   3]\n",
      "[  1   0  -2]\n",
      "(-2, 1, 0)\n"
     ]
    }
   ],
   "source": [
    "L_bad = Base*Rand\n",
    "print(L_bad)\n",
    "L_bad_lat = IntegerLattice(L_bad)\n",
    "L_bad_short_vect = L_bad_lat.shortest_vector()\n",
    "print(L_bad_short_vect)"
   ]
  },
  {
   "cell_type": "code",
   "execution_count": 17,
   "metadata": {},
   "outputs": [
    {
     "name": "stdout",
     "output_type": "stream",
     "text": [
      "Reduced\n",
      "[-2  1  0]\n",
      "[ 1  0 -2]\n",
      "[ 1  2  1]\n",
      "Reduced with LLL\n",
      "[-2  1  0]\n",
      "[ 1  0 -2]\n",
      "[ 1  2  1]\n",
      "True\n",
      "Shortest vector (1, 0, -2)\n"
     ]
    }
   ],
   "source": [
    "Red = L_bad_lat.reduced_basis\n",
    "print('Reduced')\n",
    "print(Red)\n",
    "L_good = L_bad_lat.LLL()\n",
    "print('Reduced with LLL')\n",
    "print(L_good)\n",
    "print(L_good==Red)\n",
    "L_good_short_vect = IntegerLattice(L_good).shortest_vector()\n",
    "print('Shortest vector', L_good_short_vect)"
   ]
  },
  {
   "cell_type": "code",
   "execution_count": 19,
   "metadata": {},
   "outputs": [],
   "source": [
    "import pickle\n",
    "import numpy\n",
    "#from sage.misc.persist import SagePickler\n",
    "outputdir = '/home/adam/Desktop/work/2021 Summer Research/code' \n",
    "if L_bad_short_vect.norm() != L_good_short_vect.norm():\n",
    "    print('Somethings wrong!')\n",
    "else:\n",
    "    L_short_vect = L_good_short_vect\n",
    "bases = [L_bad.numpy(), L_good.numpy(), L_short_vect]\n",
    "with open(outputdir+'/bases', 'wb') as f:\n",
    "            pickle.dump(bases,f)"
   ]
  },
  {
   "cell_type": "code",
   "execution_count": null,
   "metadata": {},
   "outputs": [],
   "source": []
  }
 ],
 "metadata": {
  "kernelspec": {
   "display_name": "SageMath 9.0",
   "language": "sage",
   "name": "sagemath"
  },
  "language_info": {
   "codemirror_mode": {
    "name": "ipython",
    "version": 3
   },
   "file_extension": ".py",
   "mimetype": "text/x-python",
   "name": "python",
   "nbconvert_exporter": "python",
   "pygments_lexer": "ipython3",
   "version": "3.8.10"
  }
 },
 "nbformat": 4,
 "nbformat_minor": 4
}
